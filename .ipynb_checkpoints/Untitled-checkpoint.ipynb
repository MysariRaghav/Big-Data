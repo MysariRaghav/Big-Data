{
 "cells": [
  {
   "cell_type": "code",
   "execution_count": 9,
   "metadata": {
    "collapsed": false
   },
   "outputs": [],
   "source": [
    "%matplotlib inline\n",
    "from lxml import etree\n",
    "import pandas as pd\n",
    "import numpy as np\n",
    "import matplotlib.pyplot as plt\n",
    "import matplotlib.cm as cm\n",
    "from matplotlib.colors import Normalize\n",
    "from matplotlib.collections import PatchCollection\n",
    "from mpl_toolkits.basemap import Basemap\n",
    "from shapely.geometry import Point, Polygon, MultiPoint, MultiPolygon\n",
    "from shapely.prepared import prep\n",
    "from pysal.esda.mapclassify import Natural_Breaks as nb\n",
    "from descartes import PolygonPatch\n",
    "import fiona\n",
    "from itertools import chain\n",
    "from pyproj import Proj, transform\n",
    "from fiona.crs import from_epsg\n",
    "from osgeo import osr"
   ]
  },
  {
   "cell_type": "code",
   "execution_count": 10,
   "metadata": {
    "collapsed": false
   },
   "outputs": [
    {
     "name": "stdout",
     "output_type": "stream",
     "text": [
      "      Latitude  Longitude\n",
      "0    41.750590 -87.710481\n",
      "1    41.762505 -87.576943\n",
      "2    41.768029 -87.644488\n",
      "3    41.721653 -87.629133\n",
      "4    41.925092 -87.687650\n",
      "5    41.764793 -87.675298\n",
      "6    41.846273 -87.709103\n",
      "7    41.893662 -87.712961\n",
      "8    41.751276 -87.566227\n",
      "9          NaN        NaN\n",
      "10   41.921371 -87.743797\n",
      "11   41.942041 -87.712588\n",
      "12   41.873805 -87.695000\n",
      "13   41.920715 -87.735690\n",
      "14   41.849418 -87.702730\n",
      "15   41.763857 -87.671074\n",
      "16   41.929644 -87.799106\n",
      "17   41.979883 -87.839050\n",
      "18   41.968405 -87.725603\n",
      "19   41.997317 -87.794548\n",
      "20   41.777310 -87.640803\n",
      "21   41.820109 -87.695218\n",
      "22   41.890034 -87.630104\n",
      "23         NaN        NaN\n",
      "24   41.772696 -87.690790\n",
      "25   41.871488 -87.705839\n",
      "26   41.918782 -87.687449\n",
      "27   41.824845 -87.623102\n",
      "28   42.004905 -87.696583\n",
      "29   41.742183 -87.600618\n",
      "..         ...        ...\n",
      "135  41.730961 -87.575569\n",
      "136  41.698903 -87.657123\n",
      "137  41.719967 -87.620104\n",
      "138  41.977805 -87.682716\n",
      "139  41.947298 -87.651034\n",
      "140  41.751330 -87.601030\n",
      "141        NaN        NaN\n",
      "142  41.757614 -87.586115\n",
      "143  42.019476 -87.683634\n",
      "144  41.880661 -87.731186\n",
      "145  41.881040 -87.629373\n",
      "146  41.723115 -87.620626\n",
      "147  41.906197 -87.732934\n",
      "148  41.879810 -87.721812\n",
      "149  41.800253 -87.704976\n",
      "150  41.780405 -87.684895\n",
      "151  41.756770 -87.653906\n",
      "152  41.887225 -87.764618\n",
      "153  41.894286 -87.718717\n",
      "154  41.888165 -87.622937\n",
      "155  41.888015 -87.631033\n",
      "156  41.975184 -87.761376\n",
      "157        NaN        NaN\n",
      "158  41.787721 -87.726593\n",
      "159  41.783973 -87.700845\n",
      "160  41.884648 -87.697543\n",
      "161  42.015569 -87.680480\n",
      "162        NaN        NaN\n",
      "163  41.772969 -87.694457\n",
      "164  41.824388 -87.705312\n",
      "\n",
      "[165 rows x 2 columns]\n"
     ]
    }
   ],
   "source": [
    "df=pd.DataFrame(columns=['Latitude','Longitude'])\n",
    "for chunk in pd.read_csv('MyCrimeData.csv', chunksize=10):\n",
    "    df=df.append(chunk[['Latitude','Longitude']].astype(float), ignore_index=True)\n",
    "print df"
   ]
  },
  {
   "cell_type": "code",
   "execution_count": 11,
   "metadata": {
    "collapsed": false
   },
   "outputs": [
    {
     "ename": "NotImplementedError",
     "evalue": "Wrong number of arguments for overloaded function 'CoordinateTransformation_TransformPoint'.\n  Possible C/C++ prototypes are:\n    TransformPoint(OSRCoordinateTransformationShadow *,double [3])\n    TransformPoint(OSRCoordinateTransformationShadow *,double [3],double,double,double)\n",
     "output_type": "error",
     "traceback": [
      "\u001b[1;31m---------------------------------------------------------------------------\u001b[0m",
      "\u001b[1;31mNotImplementedError\u001b[0m                       Traceback (most recent call last)",
      "\u001b[1;32m<ipython-input-11-96fa886f2ca2>\u001b[0m in \u001b[0;36m<module>\u001b[1;34m()\u001b[0m\n\u001b[0;32m      4\u001b[0m \u001b[0mdesti\u001b[0m\u001b[1;33m.\u001b[0m\u001b[0mImportFromProj4\u001b[0m\u001b[1;33m(\u001b[0m\u001b[1;34m\"+init=EPSG:4326\"\u001b[0m\u001b[1;33m)\u001b[0m\u001b[1;33m\u001b[0m\u001b[0m\n\u001b[0;32m      5\u001b[0m \u001b[0mtransformation\u001b[0m \u001b[1;33m=\u001b[0m \u001b[0mosr\u001b[0m\u001b[1;33m.\u001b[0m\u001b[0mCoordinateTransformation\u001b[0m\u001b[1;33m(\u001b[0m\u001b[0mori\u001b[0m\u001b[1;33m,\u001b[0m\u001b[0mdesti\u001b[0m\u001b[1;33m)\u001b[0m\u001b[1;33m\u001b[0m\u001b[0m\n\u001b[1;32m----> 6\u001b[1;33m \u001b[1;32mprint\u001b[0m \u001b[0mtransformation\u001b[0m\u001b[1;33m.\u001b[0m\u001b[0mTransformPoint\u001b[0m\u001b[1;33m(\u001b[0m\u001b[1;36m5979385.3163340045\u001b[0m\u001b[1;33m,\u001b[0m \u001b[1;36m2085856.3243659574\u001b[0m\u001b[1;33m)\u001b[0m\u001b[1;33m\u001b[0m\u001b[0m\n\u001b[0m",
      "\u001b[1;32mC:\\Anaconda\\lib\\site-packages\\osgeo\\osr.pyc\u001b[0m in \u001b[0;36mTransformPoint\u001b[1;34m(self, *args)\u001b[0m\n\u001b[0;32m    802\u001b[0m         \u001b[0mTransformPoint\u001b[0m\u001b[1;33m(\u001b[0m\u001b[0mself\u001b[0m\u001b[1;33m,\u001b[0m \u001b[0mdouble\u001b[0m \u001b[0mx\u001b[0m\u001b[1;33m,\u001b[0m \u001b[0mdouble\u001b[0m \u001b[0my\u001b[0m\u001b[1;33m,\u001b[0m \u001b[0mdouble\u001b[0m \u001b[0mz\u001b[0m \u001b[1;33m=\u001b[0m \u001b[1;36m0.0\u001b[0m\u001b[1;33m)\u001b[0m\u001b[1;33m\u001b[0m\u001b[0m\n\u001b[0;32m    803\u001b[0m         \"\"\"\n\u001b[1;32m--> 804\u001b[1;33m         \u001b[1;32mreturn\u001b[0m \u001b[0m_osr\u001b[0m\u001b[1;33m.\u001b[0m\u001b[0mCoordinateTransformation_TransformPoint\u001b[0m\u001b[1;33m(\u001b[0m\u001b[0mself\u001b[0m\u001b[1;33m,\u001b[0m \u001b[1;33m*\u001b[0m\u001b[0margs\u001b[0m\u001b[1;33m)\u001b[0m\u001b[1;33m\u001b[0m\u001b[0m\n\u001b[0m\u001b[0;32m    805\u001b[0m \u001b[1;33m\u001b[0m\u001b[0m\n\u001b[0;32m    806\u001b[0m     \u001b[1;32mdef\u001b[0m \u001b[0mTransformPoints\u001b[0m\u001b[1;33m(\u001b[0m\u001b[0mself\u001b[0m\u001b[1;33m,\u001b[0m \u001b[1;33m*\u001b[0m\u001b[0margs\u001b[0m\u001b[1;33m)\u001b[0m\u001b[1;33m:\u001b[0m\u001b[1;33m\u001b[0m\u001b[0m\n",
      "\u001b[1;31mNotImplementedError\u001b[0m: Wrong number of arguments for overloaded function 'CoordinateTransformation_TransformPoint'.\n  Possible C/C++ prototypes are:\n    TransformPoint(OSRCoordinateTransformationShadow *,double [3])\n    TransformPoint(OSRCoordinateTransformationShadow *,double [3],double,double,double)\n"
     ]
    }
   ],
   "source": [
    "ori =  osr.SpatialReference()\n",
    "desti =  osr.SpatialReference()\n",
    "ori.ImportFromProj4(\"+init=EPSG:2227\")\n",
    "desti.ImportFromProj4(\"+init=EPSG:4326\")\n",
    "transformation = osr.CoordinateTransformation(ori,desti)\n",
    "print transformation.TransformPoint(5979385.3163340045, 2085856.3243659574)"
   ]
  },
  {
   "cell_type": "code",
   "execution_count": 12,
   "metadata": {
    "collapsed": false
   },
   "outputs": [
    {
     "ename": "RuntimeError",
     "evalue": "no arguments in initialization list",
     "output_type": "error",
     "traceback": [
      "\u001b[1;31m---------------------------------------------------------------------------\u001b[0m",
      "\u001b[1;31mRuntimeError\u001b[0m                              Traceback (most recent call last)",
      "\u001b[1;32m<ipython-input-12-5be9960c6df9>\u001b[0m in \u001b[0;36m<module>\u001b[1;34m()\u001b[0m\n\u001b[0;32m      2\u001b[0m     \u001b[0mori\u001b[0m \u001b[1;33m=\u001b[0m \u001b[0mProj\u001b[0m\u001b[1;33m(\u001b[0m\u001b[0mshp\u001b[0m\u001b[1;33m.\u001b[0m\u001b[0mcrs\u001b[0m\u001b[1;33m,\u001b[0m\u001b[0mpreserve_units\u001b[0m\u001b[1;33m=\u001b[0m\u001b[0mTrue\u001b[0m \u001b[1;33m)\u001b[0m\u001b[1;33m\u001b[0m\u001b[0m\n\u001b[0;32m      3\u001b[0m     \u001b[1;31m#print shp.crs\u001b[0m\u001b[1;33m\u001b[0m\u001b[1;33m\u001b[0m\u001b[0m\n\u001b[1;32m----> 4\u001b[1;33m     \u001b[0mdest\u001b[0m\u001b[1;33m=\u001b[0m \u001b[0mProj\u001b[0m\u001b[1;33m(\u001b[0m\u001b[1;34m'EPSG:4326'\u001b[0m\u001b[1;33m,\u001b[0m\u001b[0mpreserve_units\u001b[0m\u001b[1;33m=\u001b[0m\u001b[0mTrue\u001b[0m\u001b[1;33m)\u001b[0m\u001b[1;33m\u001b[0m\u001b[0m\n\u001b[0m\u001b[0;32m      5\u001b[0m     \u001b[1;32mwith\u001b[0m \u001b[0mfiona\u001b[0m\u001b[1;33m.\u001b[0m\u001b[0mopen\u001b[0m\u001b[1;33m(\u001b[0m\u001b[1;34m'data/WARDS_2015WGS84.shp'\u001b[0m\u001b[1;33m,\u001b[0m \u001b[1;34m'w'\u001b[0m\u001b[1;33m,\u001b[0m \u001b[1;34m'ESRI Shapefile'\u001b[0m\u001b[1;33m,\u001b[0m \u001b[0mshp\u001b[0m\u001b[1;33m.\u001b[0m\u001b[0mschema\u001b[0m\u001b[1;33m.\u001b[0m\u001b[0mcopy\u001b[0m\u001b[1;33m(\u001b[0m\u001b[1;33m)\u001b[0m\u001b[1;33m,\u001b[0m \u001b[0mcrs\u001b[0m\u001b[1;33m=\u001b[0m\u001b[0mfrom_epsg\u001b[0m\u001b[1;33m(\u001b[0m\u001b[1;36m4326\u001b[0m\u001b[1;33m)\u001b[0m\u001b[1;33m)\u001b[0m \u001b[1;32mas\u001b[0m \u001b[0moutput\u001b[0m\u001b[1;33m:\u001b[0m\u001b[1;33m\u001b[0m\u001b[0m\n\u001b[0;32m      6\u001b[0m         \u001b[1;32mfor\u001b[0m \u001b[0mpoint\u001b[0m \u001b[1;32min\u001b[0m \u001b[0mshp\u001b[0m\u001b[1;33m:\u001b[0m\u001b[1;33m\u001b[0m\u001b[0m\n",
      "\u001b[1;32mC:\\Anaconda\\lib\\site-packages\\pyproj\\__init__.pyc\u001b[0m in \u001b[0;36m__new__\u001b[1;34m(self, projparams, preserve_units, **kwargs)\u001b[0m\n\u001b[0;32m    345\u001b[0m         \u001b[1;31m# on case-insensitive filesystems).\u001b[0m\u001b[1;33m\u001b[0m\u001b[1;33m\u001b[0m\u001b[0m\n\u001b[0;32m    346\u001b[0m         \u001b[0mprojstring\u001b[0m \u001b[1;33m=\u001b[0m \u001b[0mprojstring\u001b[0m\u001b[1;33m.\u001b[0m\u001b[0mreplace\u001b[0m\u001b[1;33m(\u001b[0m\u001b[1;34m'EPSG'\u001b[0m\u001b[1;33m,\u001b[0m\u001b[1;34m'epsg'\u001b[0m\u001b[1;33m)\u001b[0m\u001b[1;33m\u001b[0m\u001b[0m\n\u001b[1;32m--> 347\u001b[1;33m         \u001b[1;32mreturn\u001b[0m \u001b[0m_proj\u001b[0m\u001b[1;33m.\u001b[0m\u001b[0mProj\u001b[0m\u001b[1;33m.\u001b[0m\u001b[0m__new__\u001b[0m\u001b[1;33m(\u001b[0m\u001b[0mself\u001b[0m\u001b[1;33m,\u001b[0m \u001b[0mprojstring\u001b[0m\u001b[1;33m)\u001b[0m\u001b[1;33m\u001b[0m\u001b[0m\n\u001b[0m\u001b[0;32m    348\u001b[0m \u001b[1;33m\u001b[0m\u001b[0m\n\u001b[0;32m    349\u001b[0m     \u001b[1;32mdef\u001b[0m \u001b[0m__call__\u001b[0m\u001b[1;33m(\u001b[0m\u001b[0mself\u001b[0m\u001b[1;33m,\u001b[0m \u001b[1;33m*\u001b[0m\u001b[0margs\u001b[0m\u001b[1;33m,\u001b[0m \u001b[1;33m**\u001b[0m\u001b[0mkw\u001b[0m\u001b[1;33m)\u001b[0m\u001b[1;33m:\u001b[0m\u001b[1;33m\u001b[0m\u001b[0m\n",
      "\u001b[1;32m_proj.pyx\u001b[0m in \u001b[0;36m_proj.Proj.__cinit__ (_proj.c:1190)\u001b[1;34m()\u001b[0m\n",
      "\u001b[1;31mRuntimeError\u001b[0m: no arguments in initialization list"
     ]
    }
   ],
   "source": [
    "with fiona.open(\"data/WARDS_2015.shp\") as shp:\n",
    "    ori = Proj(shp.crs,preserve_units=True )\n",
    "    #print shp.crs\n",
    "    dest= Proj('EPSG:4326',preserve_units=True)\n",
    "    with fiona.open('data/WARDS_2015WGS84.shp', 'w', 'ESRI Shapefile', shp.schema.copy(), crs=from_epsg(4326)) as output:\n",
    "        for point in shp:\n",
    "            x,y =  point['geometry']['coordinates']\n",
    "            point['geometry']['coordinates'] = transform(ori, dest,x,y)\n",
    "            output.write(point)"
   ]
  },
  {
   "cell_type": "code",
   "execution_count": 13,
   "metadata": {
    "collapsed": false
   },
   "outputs": [
    {
     "name": "stdout",
     "output_type": "stream",
     "text": [
      "[-87.94020504940711, 41.644335, -87.52404399999999, 42.023131]\n",
      "0.416161049407 0.378796\n"
     ]
    }
   ],
   "source": [
    "shp = fiona.open('ward1998/ward1998.shp')\n",
    "bds = shp.bounds\n",
    "shp.close()\n",
    "extra = 0.01\n",
    "ll = (bds[0], bds[1])\n",
    "ur = (bds[2], bds[3])\n",
    "coords = list(chain(ll, ur))\n",
    "print coords\n",
    "w, h = coords[2] - coords[0], coords[3] - coords[1]\n",
    "print w,h"
   ]
  },
  {
   "cell_type": "code",
   "execution_count": 14,
   "metadata": {
    "collapsed": false
   },
   "outputs": [
    {
     "data": {
      "text/plain": [
       "False"
      ]
     },
     "execution_count": 14,
     "metadata": {},
     "output_type": "execute_result"
    }
   ],
   "source": [
    "import pyproj, os.path\n",
    "os.path.exists(pyproj.pyproj_datadir + '/epsg')"
   ]
  },
  {
   "cell_type": "code",
   "execution_count": 15,
   "metadata": {
    "collapsed": false
   },
   "outputs": [
    {
     "data": {
      "text/plain": [
       "'C:\\x07root\\\\stage\\\\Library\\\\share\\\\proj'"
      ]
     },
     "execution_count": 15,
     "metadata": {},
     "output_type": "execute_result"
    }
   ],
   "source": [
    "pyproj.pyproj_datadir"
   ]
  },
  {
   "cell_type": "code",
   "execution_count": 16,
   "metadata": {
    "collapsed": false
   },
   "outputs": [
    {
     "data": {
      "text/plain": [
       "(50,\n",
       " 5,\n",
       " [-87.94020504940711, 41.644335, 0.0, 0.0],\n",
       " [-87.52404399999999, 42.023131, 0.0, 0.0],\n",
       " <matplotlib.collections.LineCollection at 0x198ce160>)"
      ]
     },
     "execution_count": 16,
     "metadata": {},
     "output_type": "execute_result"
    },
    {
     "name": "stderr",
     "output_type": "stream",
     "text": [
      "C:\\Anaconda\\lib\\site-packages\\matplotlib\\collections.py:590: FutureWarning: elementwise comparison failed; returning scalar instead, but in the future will perform elementwise comparison\n",
      "  if self._edgecolors == str('face'):\n"
     ]
    },
    {
     "data": {
      "image/png": "[encoded data removed]",
      "text/plain": [
       "<matplotlib.figure.Figure at 0x1952a6a0>"
      ]
     },
     "metadata": {},
     "output_type": "display_data"
    }
   ],
   "source": [
    "m = Basemap(\n",
    "    projection='tmerc',\n",
    "    lon_0=-87.73212452470355,\n",
    "    lat_0=41.833733,\n",
    "    ellps = 'WGS84',\n",
    "    llcrnrlon=coords[0] - extra * w,\n",
    "    llcrnrlat=coords[1] - extra + 0.01 * h,\n",
    "    urcrnrlon=coords[2] + extra * w,\n",
    "    urcrnrlat=coords[3] + extra + 0.01 * h,\n",
    "    lat_ts=0,\n",
    "    resolution='i',\n",
    "    suppress_ticks=True)\n",
    "m.readshapefile(\n",
    "    'ward1998/ward1998',\n",
    "    'Chicago',\n",
    "    color='none',\n",
    "    zorder=2)"
   ]
  },
  {
   "cell_type": "code",
   "execution_count": null,
   "metadata": {
    "collapsed": false
   },
   "outputs": [],
   "source": []
  },
  {
   "cell_type": "code",
   "execution_count": 17,
   "metadata": {
    "collapsed": false
   },
   "outputs": [
    {
     "data": {
      "text/plain": [
       "[<shapely.geometry.point.Point at 0x19aad9e8>,\n",
       " <shapely.geometry.point.Point at 0x19aada90>,\n",
       " <shapely.geometry.point.Point at 0x19aadac8>,\n",
       " <shapely.geometry.point.Point at 0x19aadb00>,\n",
       " <shapely.geometry.point.Point at 0x19aadb38>,\n",
       " <shapely.geometry.point.Point at 0x19aadb70>,\n",
       " <shapely.geometry.point.Point at 0x19aadba8>,\n",
       " <shapely.geometry.point.Point at 0x19aadbe0>,\n",
       " <shapely.geometry.point.Point at 0x19aadc18>,\n",
       " <shapely.geometry.point.Point at 0x19aadc50>,\n",
       " <shapely.geometry.point.Point at 0x19aadc88>,\n",
       " <shapely.geometry.point.Point at 0x19aada20>,\n",
       " <shapely.geometry.point.Point at 0x19aadcf8>,\n",
       " <shapely.geometry.point.Point at 0x19aadd30>,\n",
       " <shapely.geometry.point.Point at 0x19aadd68>,\n",
       " <shapely.geometry.point.Point at 0x19aadda0>,\n",
       " <shapely.geometry.point.Point at 0x19aaddd8>,\n",
       " <shapely.geometry.point.Point at 0x19aade10>,\n",
       " <shapely.geometry.point.Point at 0x19aade48>,\n",
       " <shapely.geometry.point.Point at 0x19aade80>,\n",
       " <shapely.geometry.point.Point at 0x19aadeb8>,\n",
       " <shapely.geometry.point.Point at 0x19aadef0>,\n",
       " <shapely.geometry.point.Point at 0x19aadf28>,\n",
       " <shapely.geometry.point.Point at 0x19aadf60>,\n",
       " <shapely.geometry.point.Point at 0x19aadcc0>,\n",
       " <shapely.geometry.point.Point at 0x19aadf98>,\n",
       " <shapely.geometry.point.Point at 0x19aadfd0>,\n",
       " <shapely.geometry.point.Point at 0x19abb048>,\n",
       " <shapely.geometry.point.Point at 0x19abb0b8>,\n",
       " <shapely.geometry.point.Point at 0x19abb0f0>,\n",
       " <shapely.geometry.point.Point at 0x19abb080>,\n",
       " <shapely.geometry.point.Point at 0x19abb160>,\n",
       " <shapely.geometry.point.Point at 0x19abb198>,\n",
       " <shapely.geometry.point.Point at 0x19abb1d0>,\n",
       " <shapely.geometry.point.Point at 0x19abb208>,\n",
       " <shapely.geometry.point.Point at 0x19abb240>,\n",
       " <shapely.geometry.point.Point at 0x19abb278>,\n",
       " <shapely.geometry.point.Point at 0x19abb2b0>,\n",
       " <shapely.geometry.point.Point at 0x19abb2e8>,\n",
       " <shapely.geometry.point.Point at 0x19abb320>,\n",
       " <shapely.geometry.point.Point at 0x19abb358>,\n",
       " <shapely.geometry.point.Point at 0x19abb390>,\n",
       " <shapely.geometry.point.Point at 0x19abb3c8>,\n",
       " <shapely.geometry.point.Point at 0x19abb400>,\n",
       " <shapely.geometry.point.Point at 0x19abb438>,\n",
       " <shapely.geometry.point.Point at 0x19abb470>,\n",
       " <shapely.geometry.point.Point at 0x19abb4a8>,\n",
       " <shapely.geometry.point.Point at 0x19abb4e0>,\n",
       " <shapely.geometry.point.Point at 0x19abb518>,\n",
       " <shapely.geometry.point.Point at 0x19abb550>,\n",
       " <shapely.geometry.point.Point at 0x19abb588>,\n",
       " <shapely.geometry.point.Point at 0x19abb128>,\n",
       " <shapely.geometry.point.Point at 0x19abb5f8>,\n",
       " <shapely.geometry.point.Point at 0x19abb630>,\n",
       " <shapely.geometry.point.Point at 0x19abb668>,\n",
       " <shapely.geometry.point.Point at 0x19abb6a0>,\n",
       " <shapely.geometry.point.Point at 0x19abb6d8>,\n",
       " <shapely.geometry.point.Point at 0x19abb710>,\n",
       " <shapely.geometry.point.Point at 0x19abb748>,\n",
       " <shapely.geometry.point.Point at 0x19abb780>,\n",
       " <shapely.geometry.point.Point at 0x19abb7b8>,\n",
       " <shapely.geometry.point.Point at 0x19abb7f0>,\n",
       " <shapely.geometry.point.Point at 0x19abb828>,\n",
       " <shapely.geometry.point.Point at 0x19abb860>,\n",
       " <shapely.geometry.point.Point at 0x19abb898>,\n",
       " <shapely.geometry.point.Point at 0x19abb8d0>,\n",
       " <shapely.geometry.point.Point at 0x19abb908>,\n",
       " <shapely.geometry.point.Point at 0x19abb940>,\n",
       " <shapely.geometry.point.Point at 0x19abb978>,\n",
       " <shapely.geometry.point.Point at 0x19abb9b0>,\n",
       " <shapely.geometry.point.Point at 0x19abb9e8>,\n",
       " <shapely.geometry.point.Point at 0x19abba20>,\n",
       " <shapely.geometry.point.Point at 0x19abba58>,\n",
       " <shapely.geometry.point.Point at 0x19abba90>,\n",
       " <shapely.geometry.point.Point at 0x19abbac8>,\n",
       " <shapely.geometry.point.Point at 0x19abbb00>,\n",
       " <shapely.geometry.point.Point at 0x19abbb38>,\n",
       " <shapely.geometry.point.Point at 0x19abbb70>,\n",
       " <shapely.geometry.point.Point at 0x19abbba8>,\n",
       " <shapely.geometry.point.Point at 0x19abbbe0>,\n",
       " <shapely.geometry.point.Point at 0x19abbc18>,\n",
       " <shapely.geometry.point.Point at 0x19abbc50>,\n",
       " <shapely.geometry.point.Point at 0x19abbc88>,\n",
       " <shapely.geometry.point.Point at 0x19abbcc0>,\n",
       " <shapely.geometry.point.Point at 0x19abbcf8>,\n",
       " <shapely.geometry.point.Point at 0x19abbd30>,\n",
       " <shapely.geometry.point.Point at 0x19abbd68>,\n",
       " <shapely.geometry.point.Point at 0x19abbda0>,\n",
       " <shapely.geometry.point.Point at 0x19abbdd8>,\n",
       " <shapely.geometry.point.Point at 0x19abbe10>,\n",
       " <shapely.geometry.point.Point at 0x19abbe48>,\n",
       " <shapely.geometry.point.Point at 0x19abbe80>,\n",
       " <shapely.geometry.point.Point at 0x19abbeb8>,\n",
       " <shapely.geometry.point.Point at 0x19abbef0>,\n",
       " <shapely.geometry.point.Point at 0x19abbf28>,\n",
       " <shapely.geometry.point.Point at 0x19abbf60>,\n",
       " <shapely.geometry.point.Point at 0x19abbf98>,\n",
       " <shapely.geometry.point.Point at 0x19abb5c0>,\n",
       " <shapely.geometry.point.Point at 0x19abbfd0>,\n",
       " <shapely.geometry.point.Point at 0x19ac7048>,\n",
       " <shapely.geometry.point.Point at 0x19ac70b8>,\n",
       " <shapely.geometry.point.Point at 0x19ac70f0>,\n",
       " <shapely.geometry.point.Point at 0x19ac7128>,\n",
       " <shapely.geometry.point.Point at 0x19ac7160>,\n",
       " <shapely.geometry.point.Point at 0x19ac7198>,\n",
       " <shapely.geometry.point.Point at 0x19ac71d0>,\n",
       " <shapely.geometry.point.Point at 0x19ac7208>,\n",
       " <shapely.geometry.point.Point at 0x19ac7240>,\n",
       " <shapely.geometry.point.Point at 0x19ac7278>,\n",
       " <shapely.geometry.point.Point at 0x19ac72b0>,\n",
       " <shapely.geometry.point.Point at 0x19ac72e8>,\n",
       " <shapely.geometry.point.Point at 0x19ac7320>,\n",
       " <shapely.geometry.point.Point at 0x19ac7358>,\n",
       " <shapely.geometry.point.Point at 0x19ac7390>,\n",
       " <shapely.geometry.point.Point at 0x19ac73c8>,\n",
       " <shapely.geometry.point.Point at 0x19ac7400>,\n",
       " <shapely.geometry.point.Point at 0x19ac7438>,\n",
       " <shapely.geometry.point.Point at 0x19ac7470>,\n",
       " <shapely.geometry.point.Point at 0x19ac74a8>,\n",
       " <shapely.geometry.point.Point at 0x19ac74e0>,\n",
       " <shapely.geometry.point.Point at 0x19ac7518>,\n",
       " <shapely.geometry.point.Point at 0x19ac7550>,\n",
       " <shapely.geometry.point.Point at 0x19ac7588>,\n",
       " <shapely.geometry.point.Point at 0x19ac75c0>,\n",
       " <shapely.geometry.point.Point at 0x19ac75f8>,\n",
       " <shapely.geometry.point.Point at 0x19ac7630>,\n",
       " <shapely.geometry.point.Point at 0x19ac7668>,\n",
       " <shapely.geometry.point.Point at 0x19ac76a0>,\n",
       " <shapely.geometry.point.Point at 0x19ac76d8>,\n",
       " <shapely.geometry.point.Point at 0x19ac7710>,\n",
       " <shapely.geometry.point.Point at 0x19ac7748>,\n",
       " <shapely.geometry.point.Point at 0x19ac7780>,\n",
       " <shapely.geometry.point.Point at 0x19ac77b8>,\n",
       " <shapely.geometry.point.Point at 0x19ac77f0>,\n",
       " <shapely.geometry.point.Point at 0x19ac7828>,\n",
       " <shapely.geometry.point.Point at 0x19ac7860>,\n",
       " <shapely.geometry.point.Point at 0x19ac7898>,\n",
       " <shapely.geometry.point.Point at 0x19ac78d0>,\n",
       " <shapely.geometry.point.Point at 0x19ac7908>,\n",
       " <shapely.geometry.point.Point at 0x19ac7080>,\n",
       " <shapely.geometry.point.Point at 0x19ac7940>,\n",
       " <shapely.geometry.point.Point at 0x19ac79b0>,\n",
       " <shapely.geometry.point.Point at 0x19ac79e8>,\n",
       " <shapely.geometry.point.Point at 0x19ac7a20>,\n",
       " <shapely.geometry.point.Point at 0x19ac7a58>,\n",
       " <shapely.geometry.point.Point at 0x19ac7a90>,\n",
       " <shapely.geometry.point.Point at 0x19ac7ac8>,\n",
       " <shapely.geometry.point.Point at 0x19ac7b00>,\n",
       " <shapely.geometry.point.Point at 0x19ac7b38>,\n",
       " <shapely.geometry.point.Point at 0x19ac7b70>,\n",
       " <shapely.geometry.point.Point at 0x19ac7ba8>,\n",
       " <shapely.geometry.point.Point at 0x19ac7be0>,\n",
       " <shapely.geometry.point.Point at 0x19ac7c18>,\n",
       " <shapely.geometry.point.Point at 0x19ac7978>,\n",
       " <shapely.geometry.point.Point at 0x19ac7c88>,\n",
       " <shapely.geometry.point.Point at 0x19ac7cc0>,\n",
       " <shapely.geometry.point.Point at 0x19ac7cf8>]"
      ]
     },
     "execution_count": 17,
     "metadata": {},
     "output_type": "execute_result"
    }
   ],
   "source": [
    "# set up a map dataframe\n",
    "df_map = pd.DataFrame({\n",
    "    'poly': [Polygon(xy) for xy in m.Chicago]})\n",
    "#,    'ward_name': [ward['NAME'] for ward in m.Chicago_info]\n",
    "df_map['area_m'] = df_map['poly'].map(lambda x: x.area)\n",
    "df_map['area_km'] = df_map['area_m'] / 100000\n",
    "\n",
    "# Create Point objects in map coordinates from dataframe lon and lat values\n",
    "map_points = pd.Series(\n",
    "    [Point(m(mapped_x, mapped_y)) for mapped_x, mapped_y in zip(df['Longitude'], df['Latitude'])])\n",
    "plaque_points = MultiPoint(list(map_points.values))\n",
    "wards_polygon = prep(MultiPolygon(list(df_map['poly'].values)))\n",
    "# calculate points that fall within the London boundary\n",
    "ldn_points = filter(wards_polygon.contains, plaque_points)\n",
    "ldn_points"
   ]
  },
  {
   "cell_type": "code",
   "execution_count": null,
   "metadata": {
    "collapsed": true
   },
   "outputs": [],
   "source": [
    "# Convenience functions for working with colour ramps and bars\n",
    "def colorbar_index(ncolors, cmap, labels=None, **kwargs):\n",
    "    \"\"\"\n",
    "    This is a convenience function to stop you making off-by-one errors\n",
    "    Takes a standard colour ramp, and discretizes it,\n",
    "    then draws a colour bar with correctly aligned labels\n",
    "    \"\"\"\n",
    "    cmap = cmap_discretize(cmap, ncolors)\n",
    "    mappable = cm.ScalarMappable(cmap=cmap)\n",
    "    mappable.set_array([])\n",
    "    mappable.set_clim(-0.5, ncolors+0.5)\n",
    "    colorbar = plt.colorbar(mappable, **kwargs)\n",
    "    colorbar.set_ticks(np.linspace(0, ncolors, ncolors))\n",
    "    colorbar.set_ticklabels(range(ncolors))\n",
    "    if labels:\n",
    "        colorbar.set_ticklabels(labels)\n",
    "    return colorbar\n",
    "\n",
    "def cmap_discretize(cmap, N):\n",
    "    \"\"\"\n",
    "    Return a discrete colormap from the continuous colormap cmap.\n",
    "\n",
    "        cmap: colormap instance, eg. cm.jet. \n",
    "        N: number of colors.\n",
    "\n",
    "    Example\n",
    "        x = resize(arange(100), (5,100))\n",
    "        djet = cmap_discretize(cm.jet, 5)\n",
    "        imshow(x, cmap=djet)\n",
    "\n",
    "    \"\"\"\n",
    "    if type(cmap) == str:\n",
    "        cmap = get_cmap(cmap)\n",
    "    colors_i = np.concatenate((np.linspace(0, 1., N), (0., 0., 0., 0.)))\n",
    "    colors_rgba = cmap(colors_i)\n",
    "    indices = np.linspace(0, 1., N + 1)\n",
    "    cdict = {}\n",
    "    for ki, key in enumerate(('red', 'green', 'blue')):\n",
    "        cdict[key] = [(indices[i], colors_rgba[i - 1, ki], colors_rgba[i, ki]) for i in xrange(N + 1)]\n",
    "    return matplotlib.colors.LinearSegmentedColormap(cmap.name + \"_%d\" % N, cdict, 1024)"
   ]
  },
  {
   "cell_type": "code",
   "execution_count": null,
   "metadata": {
    "collapsed": false
   },
   "outputs": [],
   "source": [
    "# draw ward patches from polygons\n",
    "df_map['patches'] = df_map['poly'].map(lambda x: PolygonPatch(\n",
    "    x,\n",
    "    fc='#555555',\n",
    "    ec='#787878', lw=.25, alpha=.9,\n",
    "    zorder=4))\n",
    "\n",
    "plt.clf()\n",
    "fig = plt.figure()\n",
    "ax = fig.add_subplot(111, axisbg='w', frame_on=False)\n",
    "\n",
    "# we don't need to pass points to m() because we calculated using map_points and shapefile polygons\n",
    "dev = m.scatter(\n",
    "    [geom.x for geom in ldn_points],\n",
    "    [geom.y for geom in ldn_points],\n",
    "    5, marker='o', lw=.25,\n",
    "    facecolor='#33ccff', edgecolor='w',\n",
    "    alpha=0.9, antialiased=True,\n",
    "    label='Blue Plaque Locations', zorder=3)\n",
    "# plot boroughs by adding the PatchCollection to the axes instance\n",
    "ax.add_collection(PatchCollection(df_map['patches'].values, match_original=True))\n",
    "# copyright and source data info\n",
    "smallprint = ax.text(\n",
    "    1.03, 0,\n",
    "    'Total points: %s\\nContains Ordnance Survey data\\n$\\copyright$ Crown copyright and database right 2013\\nPlaque data from http://openplaques.org' % len(ldn_points),\n",
    "    ha='right', va='bottom',\n",
    "    size=4,\n",
    "    color='#555555',\n",
    "    transform=ax.transAxes)\n",
    "\n",
    "# Draw a map scale\n",
    "m.drawmapscale(\n",
    "    coords[0] + 0.08, coords[1] + 0.015,\n",
    "    coords[0], coords[1],\n",
    "    10.,\n",
    "    barstyle='fancy', labelstyle='simple',\n",
    "    fillcolor1='w', fillcolor2='#555555',\n",
    "    fontcolor='#555555',\n",
    "    zorder=5)\n",
    "plt.title(\"Blue Plaque Locations, London\")\n",
    "plt.tight_layout()\n",
    "# this will set the image width to 722px at 100dpi\n",
    "fig.set_size_inches(7.22, 5.25)\n",
    "plt.savefig('ward1998/Chicago_plaques.png', dpi=100, alpha=True)\n",
    "plt.show()"
   ]
  },
  {
   "cell_type": "code",
   "execution_count": null,
   "metadata": {
    "collapsed": true
   },
   "outputs": [],
   "source": []
  }
 ],
 "metadata": {
  "kernelspec": {
   "display_name": "Python 2",
   "language": "python",
   "name": "python2"
  },
  "language_info": {
   "codemirror_mode": {
    "name": "ipython",
    "version": 2
   },
   "file_extension": ".py",
   "mimetype": "text/x-python",
   "name": "python",
   "nbconvert_exporter": "python",
   "pygments_lexer": "ipython2",
   "version": "2.7.10"
  }
 },
 "nbformat": 4,
 "nbformat_minor": 0
}
